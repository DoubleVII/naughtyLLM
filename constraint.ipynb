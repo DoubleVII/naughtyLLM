{
  "nbformat": 4,
  "nbformat_minor": 0,
  "metadata": {
    "colab": {
      "provenance": []
    },
    "kernelspec": {
      "name": "python3",
      "display_name": "Python 3"
    },
    "language_info": {
      "name": "python"
    }
  },
  "cells": [
    {
      "cell_type": "markdown",
      "source": [
        "# 正则表达式"
      ],
      "metadata": {
        "id": "OvomJ6nlARpH"
      }
    },
    {
      "cell_type": "code",
      "source": [
        "import re"
      ],
      "metadata": {
        "id": "q-UKIs7OAOBW"
      },
      "execution_count": null,
      "outputs": []
    },
    {
      "cell_type": "markdown",
      "source": [
        "## Basic"
      ],
      "metadata": {
        "id": "7DRMF4GNdaNx"
      }
    },
    {
      "cell_type": "markdown",
      "source": [],
      "metadata": {
        "id": "lFNSQtFndbni"
      }
    },
    {
      "cell_type": "code",
      "source": [
        "regex = \"genshin impact\"\n",
        "\n",
        "output = re.match(regex, \"genshin impact\")\n",
        "print(output)"
      ],
      "metadata": {
        "colab": {
          "base_uri": "https://localhost:8080/"
        },
        "id": "Cz9K2Ap9AQGw",
        "outputId": "83fd9fca-0c6f-447d-ac4f-45f064f03d7b"
      },
      "execution_count": null,
      "outputs": [
        {
          "output_type": "stream",
          "name": "stdout",
          "text": [
            "<re.Match object; span=(0, 14), match='genshin impact'>\n"
          ]
        }
      ]
    },
    {
      "cell_type": "code",
      "source": [
        "output = re.match(regex, \"Genshin impact\")\n",
        "print(output)"
      ],
      "metadata": {
        "colab": {
          "base_uri": "https://localhost:8080/"
        },
        "id": "kdmIOW3icfW1",
        "outputId": "24faff5a-51ed-4f06-81f9-25b697b95138"
      },
      "execution_count": null,
      "outputs": [
        {
          "output_type": "stream",
          "name": "stdout",
          "text": [
            "None\n"
          ]
        }
      ]
    },
    {
      "cell_type": "code",
      "source": [
        "output = re.match(regex, \"Genshin impact\")\n",
        "print(output)"
      ],
      "metadata": {
        "id": "kyKz13Wrcra5"
      },
      "execution_count": null,
      "outputs": []
    },
    {
      "cell_type": "code",
      "source": [
        "regex = \"[gG]enshin impact\"\n",
        "output = re.match(regex, \"Genshin impact\")\n",
        "print(output)"
      ],
      "metadata": {
        "colab": {
          "base_uri": "https://localhost:8080/"
        },
        "id": "pDJ-cm1BclQL",
        "outputId": "dce1414c-51b6-408f-fe57-1a04e8085003"
      },
      "execution_count": null,
      "outputs": [
        {
          "output_type": "stream",
          "name": "stdout",
          "text": [
            "<re.Match object; span=(0, 14), match='Genshin impact'>\n"
          ]
        }
      ]
    },
    {
      "cell_type": "code",
      "source": [
        "output = re.match(regex, \"Menshin impact\")\n",
        "print(output)"
      ],
      "metadata": {
        "colab": {
          "base_uri": "https://localhost:8080/"
        },
        "id": "YYT17gBqdF2X",
        "outputId": "12aaa68b-3eaa-47a8-e875-7df59aab7408"
      },
      "execution_count": null,
      "outputs": [
        {
          "output_type": "stream",
          "name": "stdout",
          "text": [
            "None\n"
          ]
        }
      ]
    },
    {
      "cell_type": "code",
      "source": [
        "regex = \"[a-zA-Z]enshin impact\"\n",
        "output = re.match(regex, \"Menshin impact\")\n",
        "print(output)"
      ],
      "metadata": {
        "colab": {
          "base_uri": "https://localhost:8080/"
        },
        "id": "PBBHor6DdO80",
        "outputId": "120a9ec4-222f-4e08-8cee-3ada1cf2cc93"
      },
      "execution_count": null,
      "outputs": [
        {
          "output_type": "stream",
          "name": "stdout",
          "text": [
            "<re.Match object; span=(0, 14), match='Menshin impact'>\n"
          ]
        }
      ]
    },
    {
      "cell_type": "code",
      "source": [
        "regex = \".enshin impact\"\n",
        "output = re.match(regex, \"原enshin impact\")\n",
        "print(output)"
      ],
      "metadata": {
        "colab": {
          "base_uri": "https://localhost:8080/"
        },
        "id": "WTcRp_oBdr03",
        "outputId": "994eb327-4f05-421d-8412-78c0422ebcb8"
      },
      "execution_count": null,
      "outputs": [
        {
          "output_type": "stream",
          "name": "stdout",
          "text": [
            "<re.Match object; span=(0, 14), match='原enshin impact'>\n"
          ]
        }
      ]
    },
    {
      "cell_type": "markdown",
      "source": [
        "## 浮点数"
      ],
      "metadata": {
        "id": "I02_-RTndeLF"
      }
    },
    {
      "cell_type": "code",
      "execution_count": null,
      "metadata": {
        "colab": {
          "base_uri": "https://localhost:8080/"
        },
        "id": "XMWkWtokAEGT",
        "outputId": "d8671c03-648c-41da-ca55-53dba08e560d"
      },
      "outputs": [
        {
          "output_type": "stream",
          "name": "stdout",
          "text": [
            "<re.Match object; span=(0, 7), match='123.456'>\n"
          ]
        }
      ],
      "source": [
        "regex = \"[0-9]+\\.[0-9]+\"\n",
        "\n",
        "output = re.match(regex, \"123.456\")\n",
        "print(output)"
      ]
    },
    {
      "cell_type": "code",
      "source": [
        "output = re.match(regex, \"0.12345\")\n",
        "print(output)"
      ],
      "metadata": {
        "colab": {
          "base_uri": "https://localhost:8080/"
        },
        "id": "NYFyCctpeApK",
        "outputId": "9e72a52d-4e52-4225-daf5-e29de18cc678"
      },
      "execution_count": null,
      "outputs": [
        {
          "output_type": "stream",
          "name": "stdout",
          "text": [
            "<re.Match object; span=(0, 7), match='0.12345'>\n"
          ]
        }
      ]
    },
    {
      "cell_type": "code",
      "source": [
        "output = re.match(regex, \".123\")\n",
        "print(output)"
      ],
      "metadata": {
        "colab": {
          "base_uri": "https://localhost:8080/"
        },
        "id": "qYNyXrBUeFFg",
        "outputId": "d128b56c-6e9c-4c79-d505-95a05a9c8630"
      },
      "execution_count": null,
      "outputs": [
        {
          "output_type": "stream",
          "name": "stdout",
          "text": [
            "None\n"
          ]
        }
      ]
    },
    {
      "cell_type": "code",
      "source": [
        "output = re.match(regex, \"-123.456\")\n",
        "print(output)"
      ],
      "metadata": {
        "id": "h74BWlNXeMpM"
      },
      "execution_count": null,
      "outputs": []
    },
    {
      "cell_type": "markdown",
      "source": [
        "# 尝试使用正则表达式限制模型输出"
      ],
      "metadata": {
        "id": "Ve4ceWzZejD3"
      }
    },
    {
      "cell_type": "code",
      "source": [
        "def mock_output(prompt):\n",
        "  assert prompt == \"55/2=\"\n",
        "  output = \"27.5\"\n",
        "  for i in range(len(output)):\n",
        "    yield prompt+output[:i+1]\n",
        "\n",
        "\n",
        "prompt = \"55/2=\"\n",
        "\n",
        "for step_output in mock_output(prompt):\n",
        "  print(step_output)"
      ],
      "metadata": {
        "colab": {
          "base_uri": "https://localhost:8080/"
        },
        "id": "Y2t8dMjreoVn",
        "outputId": "7f384c10-2d2e-4fe3-9bd3-bd606d102c0a"
      },
      "execution_count": null,
      "outputs": [
        {
          "output_type": "stream",
          "name": "stdout",
          "text": [
            "55/2=2\n",
            "55/2=27\n",
            "55/2=27.\n",
            "55/2=27.5\n"
          ]
        }
      ]
    },
    {
      "cell_type": "code",
      "source": [
        "regex = \"[0-9]+\\.[0-9]+\"\n",
        "\n",
        "for step_output in mock_output(prompt):\n",
        "  step_answer = step_output[len(prompt):]\n",
        "  print(f\"step_answer: {step_answer}\")\n",
        "  print(f\"match: {re.match(regex, step_answer)}\")"
      ],
      "metadata": {
        "colab": {
          "base_uri": "https://localhost:8080/"
        },
        "id": "coBPPPxYgK7P",
        "outputId": "9d857189-9719-4ecf-8242-5bc7d7cad273"
      },
      "execution_count": null,
      "outputs": [
        {
          "output_type": "stream",
          "name": "stdout",
          "text": [
            "step_answer: 2\n",
            "match: None\n",
            "step_answer: 27\n",
            "match: None\n",
            "step_answer: 27.\n",
            "match: None\n",
            "step_answer: 27.5\n",
            "match: <re.Match object; span=(0, 4), match='27.5'>\n"
          ]
        }
      ]
    },
    {
      "cell_type": "markdown",
      "source": [
        "# 有限状态机 FSM"
      ],
      "metadata": {
        "id": "vMUrw3bXhrT2"
      }
    },
    {
      "cell_type": "code",
      "source": [
        "%pip install interegular\n"
      ],
      "metadata": {
        "colab": {
          "base_uri": "https://localhost:8080/"
        },
        "id": "a-50ERl7lxeD",
        "outputId": "47388c34-2025-429d-ff21-16d551e64d39"
      },
      "execution_count": null,
      "outputs": [
        {
          "output_type": "stream",
          "name": "stdout",
          "text": [
            "Collecting interegular\n",
            "  Downloading interegular-0.3.3-py37-none-any.whl (23 kB)\n",
            "Installing collected packages: interegular\n",
            "Successfully installed interegular-0.3.3\n"
          ]
        }
      ]
    },
    {
      "cell_type": "code",
      "source": [
        "import interegular\n",
        "\n",
        "regex = \"[0-9]+\\.[0-9]+\"\n",
        "fsm = interegular.parse_pattern(regex).to_fsm()\n",
        "\n",
        "print(fsm)"
      ],
      "metadata": {
        "colab": {
          "base_uri": "https://localhost:8080/"
        },
        "id": "7Sc_vnUnnBhG",
        "outputId": "06a9740b-9eea-4773-b9ab-30fcca1bdd91"
      },
      "execution_count": null,
      "outputs": [
        {
          "output_type": "stream",
          "name": "stdout",
          "text": [
            "  name final? \\n 0 1 2 3 4 5 6 7 8 9 anything_else \n",
            "---------------------------------------------------\n",
            "* 0    False     1 1 1 1 1 1 1 1 1 1               \n",
            "  1    False     3 3 3 3 3 3 3 3 3 3 2             \n",
            "  2    False     4 4 4 4 4 4 4 4 4 4               \n",
            "  3    False     5 5 5 5 5 5 5 5 5 5 2             \n",
            "  4    True      6 6 6 6 6 6 6 6 6 6               \n",
            "  5    True      7 7 7 7 7 7 7 7 7 7 2             \n",
            "  6    True      6 6 6 6 6 6 6 6 6 6               \n",
            "  7    True      7 7 7 7 7 7 7 7 7 7 2             \n",
            "\n"
          ]
        }
      ]
    },
    {
      "cell_type": "code",
      "source": [
        "regex = \"11.22\"\n",
        "fsm = interegular.parse_pattern(regex).to_fsm()\n",
        "\n",
        "print(fsm)"
      ],
      "metadata": {
        "colab": {
          "base_uri": "https://localhost:8080/"
        },
        "id": "o2nYV8OrsMxJ",
        "outputId": "d00339b9-065e-4648-f9b7-75d9b680cc88"
      },
      "execution_count": null,
      "outputs": [
        {
          "output_type": "stream",
          "name": "stdout",
          "text": [
            "  name final? \\n 1 2 anything_else \n",
            "-----------------------------------\n",
            "* 0    False     1                 \n",
            "  1    False     2                 \n",
            "  2    False     3 3 3             \n",
            "  3    False       4               \n",
            "  4    False       5               \n",
            "  5    True                        \n",
            "\n"
          ]
        }
      ]
    }
  ]
}